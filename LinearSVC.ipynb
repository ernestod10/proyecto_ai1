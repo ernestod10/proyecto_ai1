{
 "cells": [
  {
   "cell_type": "code",
   "execution_count": null,
   "id": "23759b66",
   "metadata": {},
   "outputs": [],
   "source": [
    "print(__doc__)\n",
    "import numpy as np\n",
    "import pandas as data\n",
    "import matplotlib.pyplot as plt\n",
    "from sklearn import svm, datasets\n",
    "from sklearn.preprocessing import StandardScaler"
   ]
  },
  {
   "cell_type": "code",
   "execution_count": null,
   "id": "21882e27",
   "metadata": {},
   "outputs": [],
   "source": [
    "homesvc = data.read_csv(\"homes.csv\")\n",
    "homesvc.info()"
   ]
  },
  {
   "cell_type": "code",
   "execution_count": null,
   "id": "0beb5318",
   "metadata": {
    "scrolled": true
   },
   "outputs": [],
   "source": [
    "x = np.array(homesvc['sqft_living']).reshape(-1,1)\n",
    "ry = np.array(homesvc['price']).reshape(-1,1)\n",
    "y = np.ravel(ry)"
   ]
  },
  {
   "cell_type": "code",
   "execution_count": null,
   "id": "af7f0edb",
   "metadata": {},
   "outputs": [],
   "source": [
    "h = .02\n",
    "C = 1.0\n",
    "svc = svm.SVC(kernel='linear', C=C).fit(x,y)\n",
    "rbf_svc = svm.SVC(kernel='rbf', gamma=0.7, C=C).fit(x, y)\n",
    "poly_svc = svm.SVC(kernel='poly',degree=3, C=C).fit(x, y)\n",
    "lin_svc = svm.LinearSVC(C=C).fit(x. y)"
   ]
  },
  {
   "cell_type": "code",
   "execution_count": null,
   "id": "4abb5010",
   "metadata": {},
   "outputs": [],
   "source": [
    "x_min, x_max = x[:, 0].min() - 1, x[:, 0].max() + 1\n",
    "y_min, y_max = x[:, 1].min() - 1. x[:, 1].max() + 1\n",
    "xx, yy = np.meshgrid(np.arange(x_min, x_max, h),\n",
    "                    np.arange(y_min, y-max, h))"
   ]
  },
  {
   "cell_type": "code",
   "execution_count": null,
   "id": "10cbe6ab",
   "metadata": {},
   "outputs": [],
   "source": [
    "tittle = ['SVC with linear kernel',\n",
    "         'LinearSVC (linear kernel)',\n",
    "         'SVC with RBF kernel',\n",
    "         'SVC with polynomial (degree 3) kernel']\n",
    "\n",
    "for i, clf in enumerate((svc, lin_svc, rbf_svc, poly_svc)):\n",
    "    plt.subplot(2, 2, i + 1)\n",
    "    plt.subplots_adjust(wspace=0.4, hspace=0.4)\n",
    "    z = clf.predict(np.c_[xx.ravel(), yy.ravel()])\n",
    "    z = z.reshape(xx.shape)\n",
    "    plt.contourf(xx, yy, z, cmap=plt.cm.coolwarm, alpha=0.8)\n",
    "    plt.scatter(x[:, 0], x[:, 1], c=y, cmap=plt.cm.coolwarm)\n",
    "    plt.xlabel('sqft_living')\n",
    "    plt.ylabel('price')\n",
    "    plt.xlim(xx.min(), xx.max())\n",
    "    plt.ylim(yy.min(), yy.max())\n",
    "    plt.xticks(())\n",
    "    plt.yticks(())\n",
    "    plt.title(titles[i])\n",
    "plt.show()    "
   ]
  },
  {
   "cell_type": "code",
   "execution_count": null,
   "id": "b89ef9ef",
   "metadata": {},
   "outputs": [],
   "source": []
  }
 ],
 "metadata": {
  "kernelspec": {
   "display_name": "Python 3 (ipykernel)",
   "language": "python",
   "name": "python3"
  },
  "language_info": {
   "codemirror_mode": {
    "name": "ipython",
    "version": 3
   },
   "file_extension": ".py",
   "mimetype": "text/x-python",
   "name": "python",
   "nbconvert_exporter": "python",
   "pygments_lexer": "ipython3",
   "version": "3.9.13"
  }
 },
 "nbformat": 4,
 "nbformat_minor": 5
}
